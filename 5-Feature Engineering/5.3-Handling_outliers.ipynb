{
 "cells": [
  {
   "cell_type": "markdown",
   "id": "3a827ec1",
   "metadata": {},
   "source": [
    "## 5 Number Summary And Box Plot for the Outlier Handling\n",
    "        Here 5 number summary means \n",
    "                1) Maximum\n",
    "                2) Q1(First Quartile) or 25%(percentile)\n",
    "                3) Median\n",
    "                4) Q3(Third Quartile) or 75%(percentile)\n",
    "                5) Minimum"
   ]
  },
  {
   "cell_type": "code",
   "execution_count": 27,
   "id": "e02e8b05",
   "metadata": {},
   "outputs": [],
   "source": [
    "import numpy as np"
   ]
  },
  {
   "cell_type": "code",
   "execution_count": 28,
   "id": "0bf51374",
   "metadata": {},
   "outputs": [],
   "source": [
    "lst_marks = [45, 32, 56, 75, 89, 54, 32, 89, 90, 87, 67, 54, 45, 98, 99, 67, 74]  # This is not containing any outliers\n",
    "minimum, Q1, median, Q3, maximum = np.quantile(lst_marks, [0, 0.25, 0.50, 0.75, 1.0])\n"
   ]
  },
  {
   "cell_type": "code",
   "execution_count": 29,
   "id": "bf7046ce",
   "metadata": {},
   "outputs": [
    {
     "name": "stdout",
     "output_type": "stream",
     "text": [
      "Minimum value of data is: 32.0\n",
      "Q1 of data is: 54.0\n",
      "Q3 of data is: 89.0\n",
      "Median  of data is: 67.0\n",
      "Maximum value of data is: 99.0\n"
     ]
    }
   ],
   "source": [
    "print(f\"Minimum value of data is: {minimum}\")\n",
    "print(f\"Q1 of data is: {Q1}\")\n",
    "print(f\"Q3 of data is: {Q3}\")\n",
    "print(f\"Median  of data is: {median}\")\n",
    "print(f\"Maximum value of data is: {maximum}\")"
   ]
  },
  {
   "cell_type": "code",
   "execution_count": 30,
   "id": "30459f9e",
   "metadata": {},
   "outputs": [
    {
     "name": "stdout",
     "output_type": "stream",
     "text": [
      "Inter Quartile Range is: 35.0\n"
     ]
    }
   ],
   "source": [
    "IQR = Q3-Q1\n",
    "print(f\"Inter Quartile Range is: {IQR}\")"
   ]
  },
  {
   "cell_type": "code",
   "execution_count": 31,
   "id": "6c7ce9eb",
   "metadata": {},
   "outputs": [],
   "source": [
    "lower_fence = Q1-1.5*(IQR)\n",
    "higher_fence = Q3+1.5*(IQR)"
   ]
  },
  {
   "cell_type": "code",
   "execution_count": 32,
   "id": "a6f6b4d9",
   "metadata": {},
   "outputs": [
    {
     "name": "stdout",
     "output_type": "stream",
     "text": [
      "Lower value considered as an outlier is: 1.5\n",
      "Highest value considered as an outlier is: 141.5\n"
     ]
    }
   ],
   "source": [
    "print(f\"Lower value considered as an outlier is: {lower_fence}\")\n",
    "print(f\"Highest value considered as an outlier is: {higher_fence}\")"
   ]
  },
  {
   "cell_type": "code",
   "execution_count": 33,
   "id": "5d7d5a52",
   "metadata": {},
   "outputs": [],
   "source": [
    "import seaborn as sns"
   ]
  },
  {
   "cell_type": "code",
   "execution_count": 34,
   "id": "9e07b58d",
   "metadata": {},
   "outputs": [
    {
     "data": {
      "text/plain": [
       "<Axes: >"
      ]
     },
     "execution_count": 34,
     "metadata": {},
     "output_type": "execute_result"
    },
    {
     "data": {
      "image/png": "[encoded data removed]",
      "text/plain": [
       "<Figure size 640x480 with 1 Axes>"
      ]
     },
     "metadata": {},
     "output_type": "display_data"
    }
   ],
   "source": [
    "sns.boxplot(lst_marks)"
   ]
  },
  {
   "cell_type": "markdown",
   "id": "6738e814",
   "metadata": {},
   "source": [
    "When we are plotting the boxplot it is automatically detect the outliers and shows the outliers as points"
   ]
  },
  {
   "cell_type": "code",
   "execution_count": 35,
   "id": "8d6a4c6a",
   "metadata": {},
   "outputs": [],
   "source": [
    "lst_marks = [-50, -10, -45, 1, 45, 32, 56, 75, 89, 54, 32, 89, 90, 87, 67, 54, 45, 98, 99, 67, 74, 100,150, 210, 190, 180] "
   ]
  },
  {
   "cell_type": "code",
   "execution_count": 36,
   "id": "3bac5ad9",
   "metadata": {},
   "outputs": [
    {
     "data": {
      "text/plain": [
       "<Axes: >"
      ]
     },
     "execution_count": 36,
     "metadata": {},
     "output_type": "execute_result"
    },
    {
     "data": {
      "image/png": "[encoded data removed]",
      "text/plain": [
       "<Figure size 640x480 with 1 Axes>"
      ]
     },
     "metadata": {},
     "output_type": "display_data"
    }
   ],
   "source": [
    "# plotting the boxplot for the lst_marks\n",
    "sns.boxplot(lst_marks)"
   ]
  },
  {
   "cell_type": "markdown",
   "id": "7e736fe6",
   "metadata": {},
   "source": [
    "Here you can see that the dots are the outliers that is automatically detected by the boxplot we are not calculating the IQR, lower_fence or higher_fence"
   ]
  }
 ],
 "metadata": {
  "kernelspec": {
   "display_name": "Python 3",
   "language": "python",
   "name": "python3"
  },
  "language_info": {
   "codemirror_mode": {
    "name": "ipython",
    "version": 3
   },
   "file_extension": ".py",
   "mimetype": "text/x-python",
   "name": "python",
   "nbconvert_exporter": "python",
   "pygments_lexer": "ipython3",
   "version": "3.10.0"
  }
 },
 "nbformat": 4,
 "nbformat_minor": 5
}
